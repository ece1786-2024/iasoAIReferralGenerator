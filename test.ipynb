{
 "cells": [
  {
   "cell_type": "code",
   "execution_count": 2,
   "metadata": {},
   "outputs": [],
   "source": [
    "import polars as pl\n",
    "import json"
   ]
  },
  {
   "cell_type": "code",
   "execution_count": 3,
   "metadata": {},
   "outputs": [
    {
     "data": {
      "text/plain": [
       "Schema([('condition', String),\n",
       "        ('conversation', String),\n",
       "        ('clinical_note', String),\n",
       "        ('extraction', String),\n",
       "        ('other_condition', String)])"
      ]
     },
     "execution_count": 3,
     "metadata": {},
     "output_type": "execute_result"
    }
   ],
   "source": [
    "df = pl.read_parquet('outputs/extractions.parquet')\n",
    "df.schema"
   ]
  },
  {
   "cell_type": "code",
   "execution_count": 7,
   "metadata": {},
   "outputs": [
    {
     "data": {
      "text/plain": [
       "'{\\n  \"copd_clinic\": true,\\n  \"asthma_education_clinic\": false,\\n  \"copd\": false,\\n  \"asthma\": false,\\n  \"shortness_of_breath\": false,\\n  \"cough\": true,\\n  \"smoker\": false,\\n  \"packs_per_day\": 0,\\n  \"other\": \"\"\\n}'"
      ]
     },
     "execution_count": 7,
     "metadata": {},
     "output_type": "execute_result"
    }
   ],
   "source": [
    "df['extraction'][0][8: -4]"
   ]
  },
  {
   "cell_type": "code",
   "execution_count": 8,
   "metadata": {},
   "outputs": [
    {
     "data": {
      "text/plain": [
       "{'copd_clinic': True,\n",
       " 'asthma_education_clinic': False,\n",
       " 'copd': False,\n",
       " 'asthma': False,\n",
       " 'shortness_of_breath': False,\n",
       " 'cough': True,\n",
       " 'smoker': False,\n",
       " 'packs_per_day': 0,\n",
       " 'other': ''}"
      ]
     },
     "execution_count": 8,
     "metadata": {},
     "output_type": "execute_result"
    }
   ],
   "source": [
    "json.loads(df['extraction'][0][8: -4])"
   ]
  },
  {
   "cell_type": "code",
   "execution_count": 9,
   "metadata": {},
   "outputs": [],
   "source": [
    "map_names = {\n",
    "    'has asthma': 'asthma',\n",
    "    ' has COPD': 'copd',\n",
    "    ' has a cough': 'cough',\n",
    "    ' has shortness of breath': 'shortness_of_breath',\n",
    "    ' is a smoker who smokes [insert a realistic number] packs per day': 'smoker',\n",
    "}"
   ]
  },
  {
   "cell_type": "code",
   "execution_count": 12,
   "metadata": {},
   "outputs": [],
   "source": [
    "labels_dict = {map_names[cond.split(':')[0]]:bool(cond.split(':')[1]) for cond in df['condition'][3].split(',')}"
   ]
  },
  {
   "cell_type": "code",
   "execution_count": 13,
   "metadata": {},
   "outputs": [],
   "source": [
    "labels_dict['copd_clinic'] = True if labels_dict['copd'] else False\n",
    "labels_dict['asthma_education_clinic'] = True if labels_dict['asthma'] else False"
   ]
  },
  {
   "cell_type": "code",
   "execution_count": 14,
   "metadata": {},
   "outputs": [
    {
     "data": {
      "text/plain": [
       "{'asthma': True,\n",
       " 'copd': True,\n",
       " 'cough': True,\n",
       " 'shortness_of_breath': True,\n",
       " 'smoker': True,\n",
       " 'copd_clinic': True,\n",
       " 'asthma_education_clinic': True}"
      ]
     },
     "execution_count": 14,
     "metadata": {},
     "output_type": "execute_result"
    }
   ],
   "source": [
    "labels_dict"
   ]
  },
  {
   "cell_type": "code",
   "execution_count": null,
   "metadata": {},
   "outputs": [],
   "source": []
  }
 ],
 "metadata": {
  "kernelspec": {
   "display_name": ".venv",
   "language": "python",
   "name": "python3"
  },
  "language_info": {
   "codemirror_mode": {
    "name": "ipython",
    "version": 3
   },
   "file_extension": ".py",
   "mimetype": "text/x-python",
   "name": "python",
   "nbconvert_exporter": "python",
   "pygments_lexer": "ipython3",
   "version": "3.9.6"
  }
 },
 "nbformat": 4,
 "nbformat_minor": 2
}
